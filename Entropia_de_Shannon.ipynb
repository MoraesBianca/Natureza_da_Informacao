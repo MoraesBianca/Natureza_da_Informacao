{
  "nbformat": 4,
  "nbformat_minor": 0,
  "metadata": {
    "colab": {
      "name": "Untitled4.ipynb",
      "provenance": [],
      "authorship_tag": "ABX9TyNPFsN9ucGx2lutMLLm6Cw5",
      "include_colab_link": true
    },
    "kernelspec": {
      "name": "python3",
      "display_name": "Python 3"
    },
    "language_info": {
      "name": "python"
    }
  },
  "cells": [
    {
      "cell_type": "markdown",
      "metadata": {
        "id": "view-in-github",
        "colab_type": "text"
      },
      "source": [
        "<a href=\"https://colab.research.google.com/github/MoraesBianca/Natureza_da_Informacao/blob/main/Entropia_de_Shannon.ipynb\" target=\"_parent\"><img src=\"https://colab.research.google.com/assets/colab-badge.svg\" alt=\"Open In Colab\"/></a>"
      ]
    },
    {
      "cell_type": "code",
      "execution_count": 1,
      "metadata": {
        "id": "QhzonM90RHOJ"
      },
      "outputs": [],
      "source": [
        "import numpy as np\n",
        "import matplotlib.pyplot as plt\n",
        "import math\n"
      ]
    },
    {
      "cell_type": "code",
      "source": [
        "#Entropia de Shannon detalhada\n",
        "def h(p):\n",
        "\ts = 0\n",
        "\tfor x in p:\n",
        "\t\ts += x*math.log2(1/x)\n",
        "\treturn s\n",
        "\n",
        "p = [0.2,0.4,0.4]\n",
        "h(p)"
      ],
      "metadata": {
        "colab": {
          "base_uri": "https://localhost:8080/"
        },
        "id": "hEAFhFsqTD5m",
        "outputId": "7c11c5a7-9249-4d56-8389-5c4a9cc6e9d4"
      },
      "execution_count": 5,
      "outputs": [
        {
          "output_type": "execute_result",
          "data": {
            "text/plain": [
              "1.5219280948873624"
            ]
          },
          "metadata": {},
          "execution_count": 5
        }
      ]
    },
    {
      "cell_type": "code",
      "source": [
        "#Entropia de Shannon utilizando biblioteca numpy\n",
        "def h(p):\n",
        "\tx = np.array(p)\n",
        "\treturn np.sum(x*np.log2(1/x))\n",
        " \n",
        "p = [0.2,0.4,0.4]\n",
        "h(p)"
      ],
      "metadata": {
        "colab": {
          "base_uri": "https://localhost:8080/"
        },
        "id": "7iVIxdv-UdJf",
        "outputId": "f4c80f04-d920-43c0-a051-c16cd0a8f89e"
      },
      "execution_count": 7,
      "outputs": [
        {
          "output_type": "execute_result",
          "data": {
            "text/plain": [
              "1.5219280948873624"
            ]
          },
          "metadata": {},
          "execution_count": 7
        }
      ]
    }
  ]
}