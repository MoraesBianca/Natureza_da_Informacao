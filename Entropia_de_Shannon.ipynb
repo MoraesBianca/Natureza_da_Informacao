{
  "nbformat": 4,
  "nbformat_minor": 0,
  "metadata": {
    "colab": {
      "name": "Entropia de Shannon.ipynb",
      "provenance": [],
      "collapsed_sections": [],
      "authorship_tag": "ABX9TyMzNhX/yyDlFO9NhgzddDqx",
      "include_colab_link": true
    },
    "kernelspec": {
      "name": "python3",
      "display_name": "Python 3"
    },
    "language_info": {
      "name": "python"
    }
  },
  "cells": [
    {
      "cell_type": "markdown",
      "metadata": {
        "id": "view-in-github",
        "colab_type": "text"
      },
      "source": [
        "<a href=\"https://colab.research.google.com/github/MoraesBianca/Natureza_da_Informacao/blob/main/Entropia_de_Shannon.ipynb\" target=\"_parent\"><img src=\"https://colab.research.google.com/assets/colab-badge.svg\" alt=\"Open In Colab\"/></a>"
      ]
    },
    {
      "cell_type": "code",
      "execution_count": 1,
      "metadata": {
        "id": "QhzonM90RHOJ"
      },
      "outputs": [],
      "source": [
        "import numpy as np\n",
        "import matplotlib.pyplot as plt\n",
        "import math\n"
      ]
    },
    {
      "cell_type": "code",
      "source": [
        "#Entropia de Shannon detalhada\n",
        "def h(p):\n",
        "\ts = 0\n",
        "\tfor x in p:\n",
        "\t\ts += x*math.log2(1/x)\n",
        "\treturn s\n",
        "\n",
        "p = [0.2,0.4,0.4]\n",
        "h(p)"
      ],
      "metadata": {
        "colab": {
          "base_uri": "https://localhost:8080/"
        },
        "id": "hEAFhFsqTD5m",
        "outputId": "7c11c5a7-9249-4d56-8389-5c4a9cc6e9d4"
      },
      "execution_count": 5,
      "outputs": [
        {
          "output_type": "execute_result",
          "data": {
            "text/plain": [
              "1.5219280948873624"
            ]
          },
          "metadata": {},
          "execution_count": 5
        }
      ]
    },
    {
      "cell_type": "code",
      "source": [
        "#Entropia de Shannon utilizando biblioteca numpy\n",
        "def h(p):\n",
        "\tx = np.array(p)\n",
        "\treturn np.sum(x*np.log2(1/x))\n",
        " \n",
        "p = [0.2,0.4,0.4]\n",
        "h(p)"
      ],
      "metadata": {
        "colab": {
          "base_uri": "https://localhost:8080/"
        },
        "id": "7iVIxdv-UdJf",
        "outputId": "9fd32492-858d-468d-e76a-423423a8186c"
      },
      "execution_count": 11,
      "outputs": [
        {
          "output_type": "execute_result",
          "data": {
            "text/plain": [
              "1.5219280948873624"
            ]
          },
          "metadata": {},
          "execution_count": 11
        }
      ]
    },
    {
      "cell_type": "code",
      "source": [
        "#Gráfico\n",
        "\n",
        "x = np.arange(0.001,0.1,0.01)\n",
        "f = x * np.log2(1/x)\n",
        "\n",
        "plt.plot(x,f)"
      ],
      "metadata": {
        "colab": {
          "base_uri": "https://localhost:8080/",
          "height": 283
        },
        "id": "skWPOq1fZE11",
        "outputId": "5d86cfd5-55d9-4466-da71-5ceacf0c285f"
      },
      "execution_count": 9,
      "outputs": [
        {
          "output_type": "execute_result",
          "data": {
            "text/plain": [
              "[<matplotlib.lines.Line2D at 0x7f2d8d0b9bd0>]"
            ]
          },
          "metadata": {},
          "execution_count": 9
        },
        {
          "output_type": "display_data",
          "data": {
            "text/plain": [
              "<Figure size 432x288 with 1 Axes>"
            ],
            "image/png": "[encoded data removed]"
          },
          "metadata": {
            "needs_background": "light"
          }
        }
      ]
    }
  ]
}